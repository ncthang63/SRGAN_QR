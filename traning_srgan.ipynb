{
 "cells": [
  {
   "cell_type": "code",
   "execution_count": 4,
   "metadata": {},
   "outputs": [],
   "source": [
    "import os\n",
    "import torch\n",
    "import torch.optim as optim\n",
    "import torch.nn as nn\n",
    "from torch.utils.data import DataLoader\n",
    "from models import Generator, Discriminator\n",
    "from utils.data_utils import QRDataset\n",
    "from utils.model_utils import save_model\n",
    "\n",
    "device = torch.device(\"cuda\" if torch.cuda.is_available() else \"cpu\")"
   ]
  },
  {
   "cell_type": "code",
   "execution_count": 5,
   "metadata": {},
   "outputs": [],
   "source": [
    "def train(generator, discriminator, dataloader, num_epochs=10, start_epoch = 0):\n",
    "    g_optimizer = optim.Adam(generator.parameters(), lr=0.0002, betas=(0.5, 0.999))\n",
    "    d_optimizer = optim.Adam(discriminator.parameters(), lr=0.0002, betas=(0.5, 0.999))\n",
    "\n",
    "    content_loss = nn.MSELoss()\n",
    "    adversarial_loss = nn.BCELoss()\n",
    "\n",
    "    for epoch in range(start_epoch, num_epochs):\n",
    "        for lr_imgs, hr_imgs in dataloader:\n",
    "            lr_imgs, hr_imgs = lr_imgs.to(device), hr_imgs.to(device)\n",
    "\n",
    "            # Train Discriminator\n",
    "            discriminator.zero_grad()\n",
    "            real_labels = torch.ones(lr_imgs.size(0), 1).to(device)\n",
    "            fake_labels = torch.zeros(lr_imgs.size(0), 1).to(device)\n",
    "\n",
    "            real_output = discriminator(hr_imgs)\n",
    "            real_loss = adversarial_loss(real_output, real_labels)\n",
    "\n",
    "            generated_imgs = generator(lr_imgs)\n",
    "            fake_output = discriminator(generated_imgs.detach())\n",
    "            fake_loss = adversarial_loss(fake_output, fake_labels)\n",
    "\n",
    "            d_loss = real_loss + fake_loss\n",
    "            d_loss.backward()\n",
    "            d_optimizer.step()\n",
    "\n",
    "            # Train Generator\n",
    "            generator.zero_grad()\n",
    "            fake_output = discriminator(generated_imgs)\n",
    "            g_loss = content_loss(generated_imgs, hr_imgs) + 1e-3 * adversarial_loss(fake_output, real_labels)\n",
    "            g_loss.backward()\n",
    "            g_optimizer.step()\n",
    "\n",
    "        print(f\"Epoch [{epoch}/{num_epochs}]  D Loss: {d_loss.item():.4f}, G Loss: {g_loss.item():.4f}\")\n",
    "        \n",
    "        # Save model every few epochs\n",
    "        if epoch % 5 == 0 or epoch == num_epochs - 1:\n",
    "            save_model(generator, discriminator, epoch)"
   ]
  },
  {
   "cell_type": "code",
   "execution_count": 6,
   "metadata": {},
   "outputs": [
    {
     "name": "stdout",
     "output_type": "stream",
     "text": [
      "Epoch [26/41]  D Loss: 100.0000, G Loss: 0.0074\n",
      "Epoch [27/41]  D Loss: 100.0000, G Loss: 0.0038\n",
      "Epoch [28/41]  D Loss: 100.0000, G Loss: 0.0042\n",
      "Epoch [29/41]  D Loss: 100.0000, G Loss: 0.0029\n",
      "Epoch [30/41]  D Loss: 100.0000, G Loss: 0.0033\n",
      "Models saved at epoch 30:\n",
      "Epoch [31/41]  D Loss: 100.0000, G Loss: 0.0045\n",
      "Epoch [32/41]  D Loss: 100.0000, G Loss: 0.0036\n",
      "Epoch [33/41]  D Loss: 100.0000, G Loss: 0.0042\n",
      "Epoch [34/41]  D Loss: 100.0000, G Loss: 0.0047\n",
      "Epoch [35/41]  D Loss: 100.0000, G Loss: 0.0030\n",
      "Models saved at epoch 35:\n",
      "Epoch [36/41]  D Loss: 100.0000, G Loss: 0.0026\n",
      "Epoch [37/41]  D Loss: 100.0000, G Loss: 0.0026\n",
      "Epoch [38/41]  D Loss: 100.0000, G Loss: 0.0034\n",
      "Epoch [39/41]  D Loss: 100.0000, G Loss: 0.0027\n",
      "Epoch [40/41]  D Loss: 100.0000, G Loss: 0.0026\n",
      "Models saved at epoch 40:\n"
     ]
    }
   ],
   "source": [
    "dataset = QRDataset(\"data/\")\n",
    "dataloader = DataLoader(dataset, batch_size=4, shuffle=True)\n",
    "\n",
    "generator = Generator().to(device)\n",
    "discriminator = Discriminator().to(device)\n",
    "\n",
    "# Load checkpoint if available\n",
    "start_epoch = 0\n",
    "checkpoint_gen = 'models/generator_epoch_25.pth'\n",
    "checkpoint_disc = 'models/discriminator_epoch_25.pth'\n",
    "\n",
    "if os.path.exists(checkpoint_gen) and os.path.exists(checkpoint_disc):\n",
    "    generator.load_state_dict(torch.load(checkpoint_gen))\n",
    "    discriminator.load_state_dict(torch.load(checkpoint_disc))\n",
    "    start_epoch = 26  # Continue from the next epoch after the checkpoint\n",
    "\n",
    "# Start or continue training\n",
    "train(generator, discriminator, dataloader, num_epochs=41, start_epoch=start_epoch)"
   ]
  }
 ],
 "metadata": {
  "kernelspec": {
   "display_name": "Python 3",
   "language": "python",
   "name": "python3"
  },
  "language_info": {
   "codemirror_mode": {
    "name": "ipython",
    "version": 3
   },
   "file_extension": ".py",
   "mimetype": "text/x-python",
   "name": "python",
   "nbconvert_exporter": "python",
   "pygments_lexer": "ipython3",
   "version": "3.8.10"
  }
 },
 "nbformat": 4,
 "nbformat_minor": 2
}
